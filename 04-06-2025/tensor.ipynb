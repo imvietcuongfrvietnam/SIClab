{
  "nbformat": 4,
  "nbformat_minor": 0,
  "metadata": {
    "colab": {
      "provenance": []
    },
    "kernelspec": {
      "name": "python3",
      "display_name": "Python 3"
    },
    "language_info": {
      "name": "python"
    }
  },
  "cells": [
    {
      "cell_type": "code",
      "execution_count": 23,
      "metadata": {
        "colab": {
          "base_uri": "https://localhost:8080/",
          "height": 35
        },
        "id": "eUea72bGhoL6",
        "outputId": "09783195-8d3c-450c-aa02-acc4cde1d894"
      },
      "outputs": [
        {
          "output_type": "execute_result",
          "data": {
            "text/plain": [
              "'2.18.0'"
            ],
            "application/vnd.google.colaboratory.intrinsic+json": {
              "type": "string"
            }
          },
          "metadata": {},
          "execution_count": 23
        }
      ],
      "source": [
        "import tensorflow as tf\n",
        "tf.__version__"
      ]
    },
    {
      "cell_type": "code",
      "source": [
        "import numpy as np\n",
        "np.set_printoptions(precision=3)"
      ],
      "metadata": {
        "id": "a8nDXDR1h33L"
      },
      "execution_count": 24,
      "outputs": []
    },
    {
      "cell_type": "code",
      "source": [
        "a = np.array([1,2,3], dtype = np.int32) #mảng của numpy\n",
        "b = [4, 5, 6] # Mảng của python\n",
        "t_a = tf.convert_to_tensor(a)\n",
        "t_b = tf.convert_to_tensor(b)"
      ],
      "metadata": {
        "id": "7d72XAe4ipfB"
      },
      "execution_count": 4,
      "outputs": []
    },
    {
      "cell_type": "code",
      "source": [
        "print(t_a)\n",
        "print(t_b)"
      ],
      "metadata": {
        "colab": {
          "base_uri": "https://localhost:8080/"
        },
        "id": "4vHsiO4ai3d4",
        "outputId": "b5ef18ca-847f-4be7-cb35-8c258490686e"
      },
      "execution_count": 5,
      "outputs": [
        {
          "output_type": "stream",
          "name": "stdout",
          "text": [
            "tf.Tensor([1 2 3], shape=(3,), dtype=int32)\n",
            "tf.Tensor([4 5 6], shape=(3,), dtype=int32)\n"
          ]
        }
      ]
    },
    {
      "cell_type": "code",
      "source": [
        "tf.is_tensor(a)"
      ],
      "metadata": {
        "colab": {
          "base_uri": "https://localhost:8080/"
        },
        "id": "yOv_QhznjEvy",
        "outputId": "5717d1cf-1ddb-4a17-976e-0fd6aa943fe8"
      },
      "execution_count": 6,
      "outputs": [
        {
          "output_type": "execute_result",
          "data": {
            "text/plain": [
              "False"
            ]
          },
          "metadata": {},
          "execution_count": 6
        }
      ]
    },
    {
      "cell_type": "code",
      "source": [
        "tf.is_tensor(t_a)"
      ],
      "metadata": {
        "colab": {
          "base_uri": "https://localhost:8080/"
        },
        "id": "-VWSDo6IjHwg",
        "outputId": "81660ba6-95fb-4a1f-bc77-57f1773a09dc"
      },
      "execution_count": 7,
      "outputs": [
        {
          "output_type": "execute_result",
          "data": {
            "text/plain": [
              "True"
            ]
          },
          "metadata": {},
          "execution_count": 7
        }
      ]
    },
    {
      "cell_type": "code",
      "source": [
        "tf.is_tensor(t_b)"
      ],
      "metadata": {
        "colab": {
          "base_uri": "https://localhost:8080/"
        },
        "id": "Ln8Kq8DAjLSU",
        "outputId": "9f09d4f0-1513-4916-8909-8295315cc5c8"
      },
      "execution_count": 8,
      "outputs": [
        {
          "output_type": "execute_result",
          "data": {
            "text/plain": [
              "True"
            ]
          },
          "metadata": {},
          "execution_count": 8
        }
      ]
    },
    {
      "cell_type": "code",
      "source": [
        "t_ones = tf.ones((2,3))\n",
        "t_ones"
      ],
      "metadata": {
        "colab": {
          "base_uri": "https://localhost:8080/"
        },
        "id": "uCmw1x9djc_U",
        "outputId": "a8bd153a-9bc1-4bcd-b608-1a104d7617dd"
      },
      "execution_count": 9,
      "outputs": [
        {
          "output_type": "execute_result",
          "data": {
            "text/plain": [
              "<tf.Tensor: shape=(2, 3), dtype=float32, numpy=\n",
              "array([[1., 1., 1.],\n",
              "       [1., 1., 1.]], dtype=float32)>"
            ]
          },
          "metadata": {},
          "execution_count": 9
        }
      ]
    },
    {
      "cell_type": "code",
      "source": [
        "t_ones.numpy()"
      ],
      "metadata": {
        "colab": {
          "base_uri": "https://localhost:8080/"
        },
        "id": "tqi6gMl1jjXH",
        "outputId": "7c801c5c-1fe0-4ffa-cc0d-37d841d19d20"
      },
      "execution_count": 10,
      "outputs": [
        {
          "output_type": "execute_result",
          "data": {
            "text/plain": [
              "array([[1., 1., 1.],\n",
              "       [1., 1., 1.]], dtype=float32)"
            ]
          },
          "metadata": {},
          "execution_count": 10
        }
      ]
    },
    {
      "cell_type": "code",
      "source": [
        "const_tensor = tf.constant([1, 2.12, np.pi], dtype = tf.float32)"
      ],
      "metadata": {
        "id": "osGEqyC2juW8"
      },
      "execution_count": 11,
      "outputs": []
    },
    {
      "cell_type": "code",
      "source": [
        "tf.fill((2, 3), 1)"
      ],
      "metadata": {
        "colab": {
          "base_uri": "https://localhost:8080/"
        },
        "id": "knz8Du-LkBzb",
        "outputId": "26eba291-7a00-45ba-e4f6-38bdcea3c8ea"
      },
      "execution_count": 12,
      "outputs": [
        {
          "output_type": "execute_result",
          "data": {
            "text/plain": [
              "<tf.Tensor: shape=(2, 3), dtype=int32, numpy=\n",
              "array([[1, 1, 1],\n",
              "       [1, 1, 1]], dtype=int32)>"
            ]
          },
          "metadata": {},
          "execution_count": 12
        }
      ]
    },
    {
      "cell_type": "code",
      "source": [
        "t_a_new = tf.cast(t_a, dtype = tf.int64)"
      ],
      "metadata": {
        "id": "ldSNbmZjtvkn"
      },
      "execution_count": 15,
      "outputs": []
    },
    {
      "cell_type": "code",
      "source": [
        "t = tf.random.uniform(shape= (3,5))"
      ],
      "metadata": {
        "id": "jQm0GbXWt746"
      },
      "execution_count": 16,
      "outputs": []
    },
    {
      "cell_type": "code",
      "source": [
        "t"
      ],
      "metadata": {
        "colab": {
          "base_uri": "https://localhost:8080/"
        },
        "id": "B9qpPbNluJZP",
        "outputId": "168c1f20-adff-4920-eae4-82ac83d4a378"
      },
      "execution_count": 17,
      "outputs": [
        {
          "output_type": "execute_result",
          "data": {
            "text/plain": [
              "<tf.Tensor: shape=(3, 5), dtype=float32, numpy=\n",
              "array([[0.919, 0.904, 0.059, 0.924, 0.601],\n",
              "       [0.721, 0.367, 0.084, 0.167, 0.961],\n",
              "       [0.968, 0.241, 0.737, 0.654, 0.106]], dtype=float32)>"
            ]
          },
          "metadata": {},
          "execution_count": 17
        }
      ]
    },
    {
      "cell_type": "code",
      "source": [
        "t_tr = tf.transpose(t)\n",
        "t_tr"
      ],
      "metadata": {
        "colab": {
          "base_uri": "https://localhost:8080/"
        },
        "id": "PLeXoE2SuMhO",
        "outputId": "343ca8a5-f939-4967-9b38-a75e2e1b8681"
      },
      "execution_count": 18,
      "outputs": [
        {
          "output_type": "execute_result",
          "data": {
            "text/plain": [
              "<tf.Tensor: shape=(5, 3), dtype=float32, numpy=\n",
              "array([[0.919, 0.721, 0.968],\n",
              "       [0.904, 0.367, 0.241],\n",
              "       [0.059, 0.084, 0.737],\n",
              "       [0.924, 0.167, 0.654],\n",
              "       [0.601, 0.961, 0.106]], dtype=float32)>"
            ]
          },
          "metadata": {},
          "execution_count": 18
        }
      ]
    },
    {
      "cell_type": "code",
      "source": [
        "t = tf.zeros((30,))"
      ],
      "metadata": {
        "id": "Bb9EtKqnujUP"
      },
      "execution_count": 19,
      "outputs": []
    },
    {
      "cell_type": "code",
      "source": [
        "t_reshape = tf.reshape(t, shape=(5,6))"
      ],
      "metadata": {
        "id": "MjHTJnMOuofJ"
      },
      "execution_count": 22,
      "outputs": []
    },
    {
      "cell_type": "code",
      "source": [
        "a = [1.2, 3.4, 5.6, 7.8, 9.0]\n",
        "ds = tf.data.Dataset.from_tensor_slices(a)"
      ],
      "metadata": {
        "id": "tKWe15QsyiSA"
      },
      "execution_count": 25,
      "outputs": []
    },
    {
      "cell_type": "code",
      "source": [
        "for item in ds:\n",
        "  print(item)"
      ],
      "metadata": {
        "colab": {
          "base_uri": "https://localhost:8080/"
        },
        "id": "kvL0kb5LypaF",
        "outputId": "8a4116b7-20ee-4867-c395-2e4dfcdf47ed"
      },
      "execution_count": 26,
      "outputs": [
        {
          "output_type": "stream",
          "name": "stdout",
          "text": [
            "tf.Tensor(1.2, shape=(), dtype=float32)\n",
            "tf.Tensor(3.4, shape=(), dtype=float32)\n",
            "tf.Tensor(5.6, shape=(), dtype=float32)\n",
            "tf.Tensor(7.8, shape=(), dtype=float32)\n",
            "tf.Tensor(9.0, shape=(), dtype=float32)\n"
          ]
        }
      ]
    },
    {
      "cell_type": "code",
      "source": [
        "ds_batch = ds.batch(3)\n",
        "for i, element in enumerate(ds_batch, 100):\n",
        "  print(element)"
      ],
      "metadata": {
        "colab": {
          "base_uri": "https://localhost:8080/"
        },
        "id": "TbAC5lDoytpX",
        "outputId": "e0a77450-e480-4479-9fbe-cb3ba7e560b4"
      },
      "execution_count": 28,
      "outputs": [
        {
          "output_type": "stream",
          "name": "stdout",
          "text": [
            "tf.Tensor([1.2 3.4 5.6], shape=(3,), dtype=float32)\n",
            "tf.Tensor([7.8 9. ], shape=(2,), dtype=float32)\n"
          ]
        }
      ]
    },
    {
      "cell_type": "code",
      "source": [],
      "metadata": {
        "id": "p2LKKAi43RdD"
      },
      "execution_count": null,
      "outputs": []
    }
  ]
}