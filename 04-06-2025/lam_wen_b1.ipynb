{
  "nbformat": 4,
  "nbformat_minor": 0,
  "metadata": {
    "colab": {
      "provenance": []
    },
    "kernelspec": {
      "name": "python3",
      "display_name": "Python 3"
    },
    "language_info": {
      "name": "python"
    }
  },
  "cells": [
    {
      "cell_type": "code",
      "execution_count": 1,
      "metadata": {
        "id": "h-l2fEWf3fw1"
      },
      "outputs": [],
      "source": [
        "import tensorflow as tf\n"
      ]
    },
    {
      "cell_type": "code",
      "source": [
        "tf.random.set_seed(1)\n",
        "t = tf.random.uniform((6,))\n",
        "print(t.numpy())"
      ],
      "metadata": {
        "colab": {
          "base_uri": "https://localhost:8080/"
        },
        "id": "ASGMIIO03llu",
        "outputId": "4a11414d-6653-488e-ef5c-0b6a44335e28"
      },
      "execution_count": 3,
      "outputs": [
        {
          "output_type": "stream",
          "name": "stdout",
          "text": [
            "[0.16513085 0.9014813  0.6309742  0.4345461  0.29193902 0.64250207]\n"
          ]
        }
      ]
    },
    {
      "cell_type": "code",
      "source": [
        "t_split = tf.split(t, num_or_size_splits=3) #Tach tensor lam 3 phan\n",
        "print(t_split)"
      ],
      "metadata": {
        "colab": {
          "base_uri": "https://localhost:8080/"
        },
        "id": "fX-GlU5y3suF",
        "outputId": "cd69ebeb-9b97-4287-9011-55cadf80e0ab"
      },
      "execution_count": 4,
      "outputs": [
        {
          "output_type": "stream",
          "name": "stdout",
          "text": [
            "[<tf.Tensor: shape=(2,), dtype=float32, numpy=array([0.16513085, 0.9014813 ], dtype=float32)>, <tf.Tensor: shape=(2,), dtype=float32, numpy=array([0.6309742, 0.4345461], dtype=float32)>, <tf.Tensor: shape=(2,), dtype=float32, numpy=array([0.29193902, 0.64250207], dtype=float32)>]\n"
          ]
        }
      ]
    },
    {
      "cell_type": "code",
      "source": [
        "[item.numpy() for item in t_split]"
      ],
      "metadata": {
        "colab": {
          "base_uri": "https://localhost:8080/"
        },
        "id": "XSyAEUJZ36Cq",
        "outputId": "6d1f8aaf-aca1-403c-eb5f-80ec7d327b85"
      },
      "execution_count": 5,
      "outputs": [
        {
          "output_type": "execute_result",
          "data": {
            "text/plain": [
              "[array([0.16513085, 0.9014813 ], dtype=float32),\n",
              " array([0.6309742, 0.4345461], dtype=float32),\n",
              " array([0.29193902, 0.64250207], dtype=float32)]"
            ]
          },
          "metadata": {},
          "execution_count": 5
        }
      ]
    },
    {
      "cell_type": "code",
      "source": [
        "A = tf.ones((3,))\n",
        "B = tf.zeros((2,))\n",
        "C = tf.concat([A, B], axis=0) #Noi ngang\n",
        "print(C.numpy())"
      ],
      "metadata": {
        "colab": {
          "base_uri": "https://localhost:8080/"
        },
        "id": "JTz2jff64AVC",
        "outputId": "469124c2-dfa1-4841-8bb7-7389f92da7c1"
      },
      "execution_count": 6,
      "outputs": [
        {
          "output_type": "stream",
          "name": "stdout",
          "text": [
            "[1. 1. 1. 0. 0.]\n"
          ]
        }
      ]
    },
    {
      "cell_type": "code",
      "source": [
        "A = tf.ones((3,))\n",
        "B = tf.zeros((3,))\n",
        "C = tf.stack([A, B], axis=0) #Noi doc\n",
        "print(C.numpy())"
      ],
      "metadata": {
        "colab": {
          "base_uri": "https://localhost:8080/"
        },
        "id": "9IPcRvzZ4Gz2",
        "outputId": "fe53dd5f-b8cc-475c-ad8a-42be894dfc64"
      },
      "execution_count": 7,
      "outputs": [
        {
          "output_type": "stream",
          "name": "stdout",
          "text": [
            "[[1. 1. 1.]\n",
            " [0. 0. 0.]]\n"
          ]
        }
      ]
    },
    {
      "cell_type": "code",
      "source": [
        "A = tf.ones((3,))\n",
        "B = tf.zeros((3,))\n",
        "C = tf.stack([A, B], axis=1) #Noi doc\n",
        "print(C.numpy())"
      ],
      "metadata": {
        "colab": {
          "base_uri": "https://localhost:8080/"
        },
        "id": "fEQ-3pU84T6_",
        "outputId": "bd593537-44bf-41af-849e-f133accbf0ba"
      },
      "execution_count": 8,
      "outputs": [
        {
          "output_type": "stream",
          "name": "stdout",
          "text": [
            "[[1. 0.]\n",
            " [1. 0.]\n",
            " [1. 0.]]\n"
          ]
        }
      ]
    },
    {
      "cell_type": "code",
      "source": [
        "a = [1.2,3.4,7.5,4.1,5.0,1.0]\n",
        "ds = tf.data.Dataset.from_tensor_slices(a) #Cac phan tu trong a thanh cac doi tuong rieng\n",
        "print(ds)"
      ],
      "metadata": {
        "colab": {
          "base_uri": "https://localhost:8080/"
        },
        "id": "aZWxYEAl4eEe",
        "outputId": "319f2e93-c74b-4d25-e206-7094afe66944"
      },
      "execution_count": 10,
      "outputs": [
        {
          "output_type": "stream",
          "name": "stdout",
          "text": [
            "<_TensorSliceDataset element_spec=TensorSpec(shape=(), dtype=tf.float32, name=None)>\n"
          ]
        }
      ]
    },
    {
      "cell_type": "code",
      "source": [
        "for item in ds:\n",
        "  print(item)"
      ],
      "metadata": {
        "colab": {
          "base_uri": "https://localhost:8080/"
        },
        "id": "VXy7E6S44qUS",
        "outputId": "dd5f5584-8211-496e-9f09-199f241239da"
      },
      "execution_count": 11,
      "outputs": [
        {
          "output_type": "stream",
          "name": "stdout",
          "text": [
            "tf.Tensor(1.2, shape=(), dtype=float32)\n",
            "tf.Tensor(3.4, shape=(), dtype=float32)\n",
            "tf.Tensor(7.5, shape=(), dtype=float32)\n",
            "tf.Tensor(4.1, shape=(), dtype=float32)\n",
            "tf.Tensor(5.0, shape=(), dtype=float32)\n",
            "tf.Tensor(1.0, shape=(), dtype=float32)\n"
          ]
        }
      ]
    },
    {
      "cell_type": "code",
      "source": [
        "ds_batch = ds.batch(3)\n",
        "for i, elem in enumerate(ds_batch,100):\n",
        "  print('batch {}:'.format(i),elem.numpy())"
      ],
      "metadata": {
        "colab": {
          "base_uri": "https://localhost:8080/"
        },
        "id": "gtiS2jAL49GC",
        "outputId": "66c488f1-96e3-499b-ffca-abe6e97a7943"
      },
      "execution_count": 12,
      "outputs": [
        {
          "output_type": "stream",
          "name": "stdout",
          "text": [
            "batch 100: [1.2 3.4 7.5]\n",
            "batch 101: [4.1 5.  1. ]\n"
          ]
        }
      ]
    },
    {
      "cell_type": "code",
      "source": [
        "tf.random.set_seed(1)\n",
        "t_x = tf.random.uniform([4,3],dtype=tf.float32)\n",
        "t_y = tf.range(4)\n",
        "print(t_x)\n",
        "print(t_y)"
      ],
      "metadata": {
        "colab": {
          "base_uri": "https://localhost:8080/"
        },
        "id": "PN9zQiQR5EiB",
        "outputId": "702a091e-8710-41b5-dec6-11beea330978"
      },
      "execution_count": 15,
      "outputs": [
        {
          "output_type": "stream",
          "name": "stdout",
          "text": [
            "tf.Tensor(\n",
            "[[0.16513085 0.9014813  0.6309742 ]\n",
            " [0.4345461  0.29193902 0.64250207]\n",
            " [0.9757855  0.43509948 0.6601019 ]\n",
            " [0.60489583 0.6366315  0.6144488 ]], shape=(4, 3), dtype=float32)\n",
            "tf.Tensor([0 1 2 3], shape=(4,), dtype=int32)\n"
          ]
        }
      ]
    },
    {
      "cell_type": "code",
      "source": [
        "ds_x = tf.data.Dataset.from_tensor_slices(t_x)\n",
        "ds_y = tf.data.Dataset.from_tensor_slices(t_y)\n",
        "ds_joint = tf.data.Dataset.zip((ds_x,ds_y))\n",
        "for item in ds_joint:\n",
        "  print(' x:', item[0].numpy(),\n",
        "        ' y:',item[1].numpy())"
      ],
      "metadata": {
        "colab": {
          "base_uri": "https://localhost:8080/"
        },
        "id": "ZKJYlh155GoP",
        "outputId": "53649529-6748-4df0-d539-d1fafef62cdb"
      },
      "execution_count": 17,
      "outputs": [
        {
          "output_type": "stream",
          "name": "stdout",
          "text": [
            " x: [0.16513085 0.9014813  0.6309742 ]  y: 0\n",
            " x: [0.4345461  0.29193902 0.64250207]  y: 1\n",
            " x: [0.9757855  0.43509948 0.6601019 ]  y: 2\n",
            " x: [0.60489583 0.6366315  0.6144488 ]  y: 3\n"
          ]
        }
      ]
    },
    {
      "cell_type": "code",
      "source": [
        "ds_trans = ds_joint.map(lambda x,y:(x*2-1.0,y))\n",
        "for item in ds_trans:\n",
        "  print(' x:', item[0].numpy(),\n",
        "        ' y:',item[1].numpy())"
      ],
      "metadata": {
        "colab": {
          "base_uri": "https://localhost:8080/"
        },
        "id": "GopWc-DO5i2C",
        "outputId": "99b7b779-374f-4d03-959c-2aabfbb1b65d"
      },
      "execution_count": 18,
      "outputs": [
        {
          "output_type": "stream",
          "name": "stdout",
          "text": [
            " x: [-0.6697383   0.80296254  0.26194835]  y: 0\n",
            " x: [-0.13090777 -0.41612196  0.28500414]  y: 1\n",
            " x: [ 0.951571   -0.12980103  0.32020378]  y: 2\n",
            " x: [0.20979166 0.27326298 0.22889757]  y: 3\n"
          ]
        }
      ]
    },
    {
      "cell_type": "code",
      "source": [
        "tf.random.set_seed(1)\n",
        "ds = ds_joint.shuffle(buffer_size=len(t_x))\n",
        "for e in ds:\n",
        "  print('x: ', e[0].numpy())\n",
        "  print('y: ', e[1].numpy())"
      ],
      "metadata": {
        "colab": {
          "base_uri": "https://localhost:8080/"
        },
        "id": "0wjWK8WG5phk",
        "outputId": "9a9b55ba-7bd7-4b18-91ad-af357daf07f7"
      },
      "execution_count": 23,
      "outputs": [
        {
          "output_type": "stream",
          "name": "stdout",
          "text": [
            "x:  [0.9757855  0.43509948 0.6601019 ]\n",
            "y:  2\n",
            "x:  [0.4345461  0.29193902 0.64250207]\n",
            "y:  1\n",
            "x:  [0.16513085 0.9014813  0.6309742 ]\n",
            "y:  0\n",
            "x:  [0.60489583 0.6366315  0.6144488 ]\n",
            "y:  3\n"
          ]
        }
      ]
    },
    {
      "cell_type": "code",
      "source": [
        "ds = ds_joint.batch(batch_size=3,drop_remainder=False)\n",
        "batch_x,batch_y = next(iter(ds))\n",
        "print('batch x:\\n',batch_x.numpy())\n",
        "print('batch y:\\n',batch_y.numpy())"
      ],
      "metadata": {
        "colab": {
          "base_uri": "https://localhost:8080/"
        },
        "id": "6b9QZBiw7Bst",
        "outputId": "ec890ef6-e773-4e0b-9011-b8b4d14628ff"
      },
      "execution_count": 26,
      "outputs": [
        {
          "output_type": "stream",
          "name": "stdout",
          "text": [
            "batch x:\n",
            " [[0.16513085 0.9014813  0.6309742 ]\n",
            " [0.4345461  0.29193902 0.64250207]\n",
            " [0.9757855  0.43509948 0.6601019 ]]\n",
            "batch y:\n",
            " [0 1 2]\n"
          ]
        }
      ]
    },
    {
      "cell_type": "code",
      "source": [
        "ds = ds_joint.batch(3).repeat(count=2)\n",
        "for i,(batch_x,batch_y) in enumerate(ds):\n",
        "  print(i,batch_x.numpy(),batch_y.numpy())"
      ],
      "metadata": {
        "colab": {
          "base_uri": "https://localhost:8080/"
        },
        "id": "NdrDqtmE7cXX",
        "outputId": "72c72d14-a005-474f-8092-9716b82732a2"
      },
      "execution_count": 27,
      "outputs": [
        {
          "output_type": "stream",
          "name": "stdout",
          "text": [
            "0 [[0.16513085 0.9014813  0.6309742 ]\n",
            " [0.4345461  0.29193902 0.64250207]\n",
            " [0.9757855  0.43509948 0.6601019 ]] [0 1 2]\n",
            "1 [[0.60489583 0.6366315  0.6144488 ]] [3]\n",
            "2 [[0.16513085 0.9014813  0.6309742 ]\n",
            " [0.4345461  0.29193902 0.64250207]\n",
            " [0.9757855  0.43509948 0.6601019 ]] [0 1 2]\n",
            "3 [[0.60489583 0.6366315  0.6144488 ]] [3]\n"
          ]
        }
      ]
    },
    {
      "cell_type": "code",
      "source": [
        "tf.random.set_seed(1)\n",
        "ds = ds_joint.shuffle(4).batch(2).repeat(20)\n",
        "for i,(batch_x,batch_y) in enumerate(ds):\n",
        "  print(i,batch_x.numpy(),batch_y.numpy())"
      ],
      "metadata": {
        "colab": {
          "base_uri": "https://localhost:8080/"
        },
        "id": "IEBkgwBV7tyz",
        "outputId": "7b170d4b-d8a2-4011-fd78-847397dbac44"
      },
      "execution_count": 28,
      "outputs": [
        {
          "output_type": "stream",
          "name": "stdout",
          "text": [
            "0 [[0.9757855  0.43509948 0.6601019 ]\n",
            " [0.4345461  0.29193902 0.64250207]] [2 1]\n",
            "1 [[0.16513085 0.9014813  0.6309742 ]\n",
            " [0.60489583 0.6366315  0.6144488 ]] [0 3]\n",
            "2 [[0.16513085 0.9014813  0.6309742 ]\n",
            " [0.60489583 0.6366315  0.6144488 ]] [0 3]\n",
            "3 [[0.4345461  0.29193902 0.64250207]\n",
            " [0.9757855  0.43509948 0.6601019 ]] [1 2]\n",
            "4 [[0.60489583 0.6366315  0.6144488 ]\n",
            " [0.16513085 0.9014813  0.6309742 ]] [3 0]\n",
            "5 [[0.4345461  0.29193902 0.64250207]\n",
            " [0.9757855  0.43509948 0.6601019 ]] [1 2]\n",
            "6 [[0.4345461  0.29193902 0.64250207]\n",
            " [0.60489583 0.6366315  0.6144488 ]] [1 3]\n",
            "7 [[0.9757855  0.43509948 0.6601019 ]\n",
            " [0.16513085 0.9014813  0.6309742 ]] [2 0]\n",
            "8 [[0.4345461  0.29193902 0.64250207]\n",
            " [0.9757855  0.43509948 0.6601019 ]] [1 2]\n",
            "9 [[0.60489583 0.6366315  0.6144488 ]\n",
            " [0.16513085 0.9014813  0.6309742 ]] [3 0]\n",
            "10 [[0.60489583 0.6366315  0.6144488 ]\n",
            " [0.16513085 0.9014813  0.6309742 ]] [3 0]\n",
            "11 [[0.9757855  0.43509948 0.6601019 ]\n",
            " [0.4345461  0.29193902 0.64250207]] [2 1]\n",
            "12 [[0.60489583 0.6366315  0.6144488 ]\n",
            " [0.16513085 0.9014813  0.6309742 ]] [3 0]\n",
            "13 [[0.4345461  0.29193902 0.64250207]\n",
            " [0.9757855  0.43509948 0.6601019 ]] [1 2]\n",
            "14 [[0.60489583 0.6366315  0.6144488 ]\n",
            " [0.16513085 0.9014813  0.6309742 ]] [3 0]\n",
            "15 [[0.9757855  0.43509948 0.6601019 ]\n",
            " [0.4345461  0.29193902 0.64250207]] [2 1]\n",
            "16 [[0.9757855  0.43509948 0.6601019 ]\n",
            " [0.60489583 0.6366315  0.6144488 ]] [2 3]\n",
            "17 [[0.16513085 0.9014813  0.6309742 ]\n",
            " [0.4345461  0.29193902 0.64250207]] [0 1]\n",
            "18 [[0.4345461  0.29193902 0.64250207]\n",
            " [0.9757855  0.43509948 0.6601019 ]] [1 2]\n",
            "19 [[0.16513085 0.9014813  0.6309742 ]\n",
            " [0.60489583 0.6366315  0.6144488 ]] [0 3]\n",
            "20 [[0.16513085 0.9014813  0.6309742 ]\n",
            " [0.4345461  0.29193902 0.64250207]] [0 1]\n",
            "21 [[0.9757855  0.43509948 0.6601019 ]\n",
            " [0.60489583 0.6366315  0.6144488 ]] [2 3]\n",
            "22 [[0.60489583 0.6366315  0.6144488 ]\n",
            " [0.9757855  0.43509948 0.6601019 ]] [3 2]\n",
            "23 [[0.16513085 0.9014813  0.6309742 ]\n",
            " [0.4345461  0.29193902 0.64250207]] [0 1]\n",
            "24 [[0.60489583 0.6366315  0.6144488 ]\n",
            " [0.16513085 0.9014813  0.6309742 ]] [3 0]\n",
            "25 [[0.4345461  0.29193902 0.64250207]\n",
            " [0.9757855  0.43509948 0.6601019 ]] [1 2]\n",
            "26 [[0.4345461  0.29193902 0.64250207]\n",
            " [0.60489583 0.6366315  0.6144488 ]] [1 3]\n",
            "27 [[0.9757855  0.43509948 0.6601019 ]\n",
            " [0.16513085 0.9014813  0.6309742 ]] [2 0]\n",
            "28 [[0.9757855  0.43509948 0.6601019 ]\n",
            " [0.4345461  0.29193902 0.64250207]] [2 1]\n",
            "29 [[0.16513085 0.9014813  0.6309742 ]\n",
            " [0.60489583 0.6366315  0.6144488 ]] [0 3]\n",
            "30 [[0.9757855  0.43509948 0.6601019 ]\n",
            " [0.60489583 0.6366315  0.6144488 ]] [2 3]\n",
            "31 [[0.16513085 0.9014813  0.6309742 ]\n",
            " [0.4345461  0.29193902 0.64250207]] [0 1]\n",
            "32 [[0.60489583 0.6366315  0.6144488 ]\n",
            " [0.4345461  0.29193902 0.64250207]] [3 1]\n",
            "33 [[0.9757855  0.43509948 0.6601019 ]\n",
            " [0.16513085 0.9014813  0.6309742 ]] [2 0]\n",
            "34 [[0.60489583 0.6366315  0.6144488 ]\n",
            " [0.9757855  0.43509948 0.6601019 ]] [3 2]\n",
            "35 [[0.4345461  0.29193902 0.64250207]\n",
            " [0.16513085 0.9014813  0.6309742 ]] [1 0]\n",
            "36 [[0.60489583 0.6366315  0.6144488 ]\n",
            " [0.16513085 0.9014813  0.6309742 ]] [3 0]\n",
            "37 [[0.9757855  0.43509948 0.6601019 ]\n",
            " [0.4345461  0.29193902 0.64250207]] [2 1]\n",
            "38 [[0.16513085 0.9014813  0.6309742 ]\n",
            " [0.9757855  0.43509948 0.6601019 ]] [0 2]\n",
            "39 [[0.60489583 0.6366315  0.6144488 ]\n",
            " [0.4345461  0.29193902 0.64250207]] [3 1]\n"
          ]
        }
      ]
    },
    {
      "cell_type": "code",
      "source": [],
      "metadata": {
        "id": "X8F0s40Q78uq"
      },
      "execution_count": null,
      "outputs": []
    },
    {
      "cell_type": "code",
      "source": [],
      "metadata": {
        "id": "mwkuwFNA76_A"
      },
      "execution_count": null,
      "outputs": []
    }
  ]
}