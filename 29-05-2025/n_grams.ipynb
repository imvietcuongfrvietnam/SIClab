{
  "nbformat": 4,
  "nbformat_minor": 0,
  "metadata": {
    "colab": {
      "provenance": []
    },
    "kernelspec": {
      "name": "python3",
      "display_name": "Python 3"
    },
    "language_info": {
      "name": "python"
    }
  },
  "cells": [
    {
      "cell_type": "code",
      "execution_count": 1,
      "metadata": {
        "id": "v-05UBQzB2LG"
      },
      "outputs": [],
      "source": [
        "import nltk\n",
        "from numpy.random import randint, seed\n",
        "from sklearn.feature_extraction.text import CountVectorizer"
      ]
    },
    {
      "cell_type": "code",
      "source": [
        "# Text data for training.\n",
        "my_text = \"\"\"Machine learning is the scientific study of algorithms and statistical models that computer systems use to effectively perform a specific task without using explicit instructions, relying on patterns and inference instead. It is seen as a subset of artificial intelligence. Machine learning algorithms build a mathematical model of sample data, known as \"training data\", in order to make predictions or decisions without being explicitly programmed to perform the task.[1][2]:2 Machine learning algorithms are used in the applications of email filtering, detection of network intruders, and computer vision, where it is infeasible to develop an algorithm of specific instructions for performing the task. Machine learning is closely related to computational statistics, which focuses on making predictions using computers. The study of mathematical optimization delivers methods, theory and application domains to the field of machine learning. Data mining is a field of study within machine learning, and focuses on exploratory data analysis through unsupervised learning In its application across business problems, machine learning is also referred to as predictive analytics.\"\"\""
      ],
      "metadata": {
        "id": "tNGnSaRXCIwP"
      },
      "execution_count": 2,
      "outputs": []
    },
    {
      "cell_type": "code",
      "source": [
        "my_text =  [my_text.lower()]"
      ],
      "metadata": {
        "id": "34MmcsB4CMqE"
      },
      "execution_count": 4,
      "outputs": []
    },
    {
      "cell_type": "code",
      "source": [
        "my_text"
      ],
      "metadata": {
        "colab": {
          "base_uri": "https://localhost:8080/"
        },
        "id": "H0gDb-ajCTnL",
        "outputId": "f0ef428e-d2c7-44c2-d3bd-c50c0f067aca"
      },
      "execution_count": 5,
      "outputs": [
        {
          "output_type": "execute_result",
          "data": {
            "text/plain": [
              "['machine learning is the scientific study of algorithms and statistical models that computer systems use to effectively perform a specific task without using explicit instructions, relying on patterns and inference instead. it is seen as a subset of artificial intelligence. machine learning algorithms build a mathematical model of sample data, known as \"training data\", in order to make predictions or decisions without being explicitly programmed to perform the task.[1][2]:2 machine learning algorithms are used in the applications of email filtering, detection of network intruders, and computer vision, where it is infeasible to develop an algorithm of specific instructions for performing the task. machine learning is closely related to computational statistics, which focuses on making predictions using computers. the study of mathematical optimization delivers methods, theory and application domains to the field of machine learning. data mining is a field of study within machine learning, and focuses on exploratory data analysis through unsupervised learning in its application across business problems, machine learning is also referred to as predictive analytics.']"
            ]
          },
          "metadata": {},
          "execution_count": 5
        }
      ]
    },
    {
      "cell_type": "code",
      "source": [
        "n = 3                                                            # Can be changed to a number equal or larger than 2.\n",
        "n_min = n\n",
        "n_max = n\n",
        "n_gram_type = 'word'                                             # n-Gram with words.\n",
        "vectorizer = CountVectorizer(ngram_range=(n_min,n_max), analyzer = n_gram_type)"
      ],
      "metadata": {
        "id": "ky4VJS3TCVRr"
      },
      "execution_count": 6,
      "outputs": []
    },
    {
      "cell_type": "code",
      "source": [
        "n_grams = vectorizer.fit(my_text).get_feature_names_out()            # Get the n-Grams as a list.\n",
        "n_gram_cts = vectorizer.transform(my_text).toarray()             #  The output is an array of array.\n",
        "n_gram_cts = list(n_gram_cts[0])                                 # Convert into a simple list."
      ],
      "metadata": {
        "id": "GPiBBnMsCZnH"
      },
      "execution_count": 7,
      "outputs": []
    },
    {
      "cell_type": "code",
      "source": [
        "list(zip(n_grams,n_gram_cts))                                    # Make a list of tuples and show."
      ],
      "metadata": {
        "colab": {
          "base_uri": "https://localhost:8080/"
        },
        "id": "EN2-33qHCdIF",
        "outputId": "bb64b1f4-39d1-4230-efc5-c0ffa15c902b"
      },
      "execution_count": 8,
      "outputs": [
        {
          "output_type": "execute_result",
          "data": {
            "text/plain": [
              "[('across business problems', np.int64(1)),\n",
              " ('algorithm of specific', np.int64(1)),\n",
              " ('algorithms and statistical', np.int64(1)),\n",
              " ('algorithms are used', np.int64(1)),\n",
              " ('algorithms build mathematical', np.int64(1)),\n",
              " ('also referred to', np.int64(1)),\n",
              " ('an algorithm of', np.int64(1)),\n",
              " ('analysis through unsupervised', np.int64(1)),\n",
              " ('and application domains', np.int64(1)),\n",
              " ('and computer vision', np.int64(1)),\n",
              " ('and focuses on', np.int64(1)),\n",
              " ('and inference instead', np.int64(1)),\n",
              " ('and statistical models', np.int64(1)),\n",
              " ('application across business', np.int64(1)),\n",
              " ('application domains to', np.int64(1)),\n",
              " ('applications of email', np.int64(1)),\n",
              " ('are used in', np.int64(1)),\n",
              " ('artificial intelligence machine', np.int64(1)),\n",
              " ('as predictive analytics', np.int64(1)),\n",
              " ('as subset of', np.int64(1)),\n",
              " ('as training data', np.int64(1)),\n",
              " ('being explicitly programmed', np.int64(1)),\n",
              " ('build mathematical model', np.int64(1)),\n",
              " ('business problems machine', np.int64(1)),\n",
              " ('closely related to', np.int64(1)),\n",
              " ('computational statistics which', np.int64(1)),\n",
              " ('computer systems use', np.int64(1)),\n",
              " ('computer vision where', np.int64(1)),\n",
              " ('computers the study', np.int64(1)),\n",
              " ('data analysis through', np.int64(1)),\n",
              " ('data in order', np.int64(1)),\n",
              " ('data known as', np.int64(1)),\n",
              " ('data mining is', np.int64(1)),\n",
              " ('decisions without being', np.int64(1)),\n",
              " ('delivers methods theory', np.int64(1)),\n",
              " ('detection of network', np.int64(1)),\n",
              " ('develop an algorithm', np.int64(1)),\n",
              " ('domains to the', np.int64(1)),\n",
              " ('effectively perform specific', np.int64(1)),\n",
              " ('email filtering detection', np.int64(1)),\n",
              " ('explicit instructions relying', np.int64(1)),\n",
              " ('explicitly programmed to', np.int64(1)),\n",
              " ('exploratory data analysis', np.int64(1)),\n",
              " ('field of machine', np.int64(1)),\n",
              " ('field of study', np.int64(1)),\n",
              " ('filtering detection of', np.int64(1)),\n",
              " ('focuses on exploratory', np.int64(1)),\n",
              " ('focuses on making', np.int64(1)),\n",
              " ('for performing the', np.int64(1)),\n",
              " ('in its application', np.int64(1)),\n",
              " ('in order to', np.int64(1)),\n",
              " ('in the applications', np.int64(1)),\n",
              " ('infeasible to develop', np.int64(1)),\n",
              " ('inference instead it', np.int64(1)),\n",
              " ('instead it is', np.int64(1)),\n",
              " ('instructions for performing', np.int64(1)),\n",
              " ('instructions relying on', np.int64(1)),\n",
              " ('intelligence machine learning', np.int64(1)),\n",
              " ('intruders and computer', np.int64(1)),\n",
              " ('is also referred', np.int64(1)),\n",
              " ('is closely related', np.int64(1)),\n",
              " ('is field of', np.int64(1)),\n",
              " ('is infeasible to', np.int64(1)),\n",
              " ('is seen as', np.int64(1)),\n",
              " ('is the scientific', np.int64(1)),\n",
              " ('it is infeasible', np.int64(1)),\n",
              " ('it is seen', np.int64(1)),\n",
              " ('its application across', np.int64(1)),\n",
              " ('known as training', np.int64(1)),\n",
              " ('learning algorithms are', np.int64(1)),\n",
              " ('learning algorithms build', np.int64(1)),\n",
              " ('learning and focuses', np.int64(1)),\n",
              " ('learning data mining', np.int64(1)),\n",
              " ('learning in its', np.int64(1)),\n",
              " ('learning is also', np.int64(1)),\n",
              " ('learning is closely', np.int64(1)),\n",
              " ('learning is the', np.int64(1)),\n",
              " ('machine learning algorithms', np.int64(2)),\n",
              " ('machine learning and', np.int64(1)),\n",
              " ('machine learning data', np.int64(1)),\n",
              " ('machine learning is', np.int64(3)),\n",
              " ('make predictions or', np.int64(1)),\n",
              " ('making predictions using', np.int64(1)),\n",
              " ('mathematical model of', np.int64(1)),\n",
              " ('mathematical optimization delivers', np.int64(1)),\n",
              " ('methods theory and', np.int64(1)),\n",
              " ('mining is field', np.int64(1)),\n",
              " ('model of sample', np.int64(1)),\n",
              " ('models that computer', np.int64(1)),\n",
              " ('network intruders and', np.int64(1)),\n",
              " ('of algorithms and', np.int64(1)),\n",
              " ('of artificial intelligence', np.int64(1)),\n",
              " ('of email filtering', np.int64(1)),\n",
              " ('of machine learning', np.int64(1)),\n",
              " ('of mathematical optimization', np.int64(1)),\n",
              " ('of network intruders', np.int64(1)),\n",
              " ('of sample data', np.int64(1)),\n",
              " ('of specific instructions', np.int64(1)),\n",
              " ('of study within', np.int64(1)),\n",
              " ('on exploratory data', np.int64(1)),\n",
              " ('on making predictions', np.int64(1)),\n",
              " ('on patterns and', np.int64(1)),\n",
              " ('optimization delivers methods', np.int64(1)),\n",
              " ('or decisions without', np.int64(1)),\n",
              " ('order to make', np.int64(1)),\n",
              " ('patterns and inference', np.int64(1)),\n",
              " ('perform specific task', np.int64(1)),\n",
              " ('perform the task', np.int64(1)),\n",
              " ('performing the task', np.int64(1)),\n",
              " ('predictions or decisions', np.int64(1)),\n",
              " ('predictions using computers', np.int64(1)),\n",
              " ('problems machine learning', np.int64(1)),\n",
              " ('programmed to perform', np.int64(1)),\n",
              " ('referred to as', np.int64(1)),\n",
              " ('related to computational', np.int64(1)),\n",
              " ('relying on patterns', np.int64(1)),\n",
              " ('sample data known', np.int64(1)),\n",
              " ('scientific study of', np.int64(1)),\n",
              " ('seen as subset', np.int64(1)),\n",
              " ('specific instructions for', np.int64(1)),\n",
              " ('specific task without', np.int64(1)),\n",
              " ('statistical models that', np.int64(1)),\n",
              " ('statistics which focuses', np.int64(1)),\n",
              " ('study of algorithms', np.int64(1)),\n",
              " ('study of mathematical', np.int64(1)),\n",
              " ('study within machine', np.int64(1)),\n",
              " ('subset of artificial', np.int64(1)),\n",
              " ('systems use to', np.int64(1)),\n",
              " ('task machine learning', np.int64(2)),\n",
              " ('task without using', np.int64(1)),\n",
              " ('that computer systems', np.int64(1)),\n",
              " ('the applications of', np.int64(1)),\n",
              " ('the field of', np.int64(1)),\n",
              " ('the scientific study', np.int64(1)),\n",
              " ('the study of', np.int64(1)),\n",
              " ('the task machine', np.int64(2)),\n",
              " ('theory and application', np.int64(1)),\n",
              " ('through unsupervised learning', np.int64(1)),\n",
              " ('to as predictive', np.int64(1)),\n",
              " ('to computational statistics', np.int64(1)),\n",
              " ('to develop an', np.int64(1)),\n",
              " ('to effectively perform', np.int64(1)),\n",
              " ('to make predictions', np.int64(1)),\n",
              " ('to perform the', np.int64(1)),\n",
              " ('to the field', np.int64(1)),\n",
              " ('training data in', np.int64(1)),\n",
              " ('unsupervised learning in', np.int64(1)),\n",
              " ('use to effectively', np.int64(1)),\n",
              " ('used in the', np.int64(1)),\n",
              " ('using computers the', np.int64(1)),\n",
              " ('using explicit instructions', np.int64(1)),\n",
              " ('vision where it', np.int64(1)),\n",
              " ('where it is', np.int64(1)),\n",
              " ('which focuses on', np.int64(1)),\n",
              " ('within machine learning', np.int64(1)),\n",
              " ('without being explicitly', np.int64(1)),\n",
              " ('without using explicit', np.int64(1))]"
            ]
          },
          "metadata": {},
          "execution_count": 8
        }
      ]
    },
    {
      "cell_type": "code",
      "source": [
        "n = 3                                                           # Can be changed to a number equal or larger than 2.\n",
        "n_min = n\n",
        "n_max = n\n",
        "n_gram_type = 'word'\n",
        "vectorizer = CountVectorizer(ngram_range=(n_min,n_max), analyzer = n_gram_type)"
      ],
      "metadata": {
        "id": "A2E5_HQQCjep"
      },
      "execution_count": 9,
      "outputs": []
    },
    {
      "cell_type": "code",
      "source": [
        "import nltk\n",
        "nltk.download('punkt_tab')\n",
        "n_grams = vectorizer.fit(my_text).get_feature_names_out()           # A list of n-Grams.\n",
        "my_dict = {}\n",
        "for a_gram in n_grams:\n",
        "    words = nltk.word_tokenize(a_gram)\n",
        "    a_nm1_gram = ' '.join(words[0:n-1])                         # (n-1)-Gram.\n",
        "    next_word = words[-1]                                       # Word after the a_nm1_gram.\n",
        "    if a_nm1_gram not in my_dict.keys():\n",
        "        my_dict[a_nm1_gram] = [next_word]                       # a_nm1_gram is a new key. So, initialize the dictionary entry.\n",
        "    else:\n",
        "        my_dict[a_nm1_gram] += [next_word]                      # an_nm1_gram is already in the dictionary."
      ],
      "metadata": {
        "colab": {
          "base_uri": "https://localhost:8080/"
        },
        "id": "HE3jKjRgCmOJ",
        "outputId": "39932956-6aea-4a10-f37e-3b85d4cc27d9"
      },
      "execution_count": 11,
      "outputs": [
        {
          "output_type": "stream",
          "name": "stderr",
          "text": [
            "[nltk_data] Downloading package punkt_tab to /root/nltk_data...\n",
            "[nltk_data]   Unzipping tokenizers/punkt_tab.zip.\n"
          ]
        }
      ]
    },
    {
      "cell_type": "code",
      "source": [
        "my_dict"
      ],
      "metadata": {
        "colab": {
          "base_uri": "https://localhost:8080/"
        },
        "id": "T6dSLiEFCvpN",
        "outputId": "3d04abcc-5f43-4cbf-f806-3f17286e9f63"
      },
      "execution_count": 12,
      "outputs": [
        {
          "output_type": "execute_result",
          "data": {
            "text/plain": [
              "{'across business': ['problems'],\n",
              " 'algorithm of': ['specific'],\n",
              " 'algorithms and': ['statistical'],\n",
              " 'algorithms are': ['used'],\n",
              " 'algorithms build': ['mathematical'],\n",
              " 'also referred': ['to'],\n",
              " 'an algorithm': ['of'],\n",
              " 'analysis through': ['unsupervised'],\n",
              " 'and application': ['domains'],\n",
              " 'and computer': ['vision'],\n",
              " 'and focuses': ['on'],\n",
              " 'and inference': ['instead'],\n",
              " 'and statistical': ['models'],\n",
              " 'application across': ['business'],\n",
              " 'application domains': ['to'],\n",
              " 'applications of': ['email'],\n",
              " 'are used': ['in'],\n",
              " 'artificial intelligence': ['machine'],\n",
              " 'as predictive': ['analytics'],\n",
              " 'as subset': ['of'],\n",
              " 'as training': ['data'],\n",
              " 'being explicitly': ['programmed'],\n",
              " 'build mathematical': ['model'],\n",
              " 'business problems': ['machine'],\n",
              " 'closely related': ['to'],\n",
              " 'computational statistics': ['which'],\n",
              " 'computer systems': ['use'],\n",
              " 'computer vision': ['where'],\n",
              " 'computers the': ['study'],\n",
              " 'data analysis': ['through'],\n",
              " 'data in': ['order'],\n",
              " 'data known': ['as'],\n",
              " 'data mining': ['is'],\n",
              " 'decisions without': ['being'],\n",
              " 'delivers methods': ['theory'],\n",
              " 'detection of': ['network'],\n",
              " 'develop an': ['algorithm'],\n",
              " 'domains to': ['the'],\n",
              " 'effectively perform': ['specific'],\n",
              " 'email filtering': ['detection'],\n",
              " 'explicit instructions': ['relying'],\n",
              " 'explicitly programmed': ['to'],\n",
              " 'exploratory data': ['analysis'],\n",
              " 'field of': ['machine', 'study'],\n",
              " 'filtering detection': ['of'],\n",
              " 'focuses on': ['exploratory', 'making'],\n",
              " 'for performing': ['the'],\n",
              " 'in its': ['application'],\n",
              " 'in order': ['to'],\n",
              " 'in the': ['applications'],\n",
              " 'infeasible to': ['develop'],\n",
              " 'inference instead': ['it'],\n",
              " 'instead it': ['is'],\n",
              " 'instructions for': ['performing'],\n",
              " 'instructions relying': ['on'],\n",
              " 'intelligence machine': ['learning'],\n",
              " 'intruders and': ['computer'],\n",
              " 'is also': ['referred'],\n",
              " 'is closely': ['related'],\n",
              " 'is field': ['of'],\n",
              " 'is infeasible': ['to'],\n",
              " 'is seen': ['as'],\n",
              " 'is the': ['scientific'],\n",
              " 'it is': ['infeasible', 'seen'],\n",
              " 'its application': ['across'],\n",
              " 'known as': ['training'],\n",
              " 'learning algorithms': ['are', 'build'],\n",
              " 'learning and': ['focuses'],\n",
              " 'learning data': ['mining'],\n",
              " 'learning in': ['its'],\n",
              " 'learning is': ['also', 'closely', 'the'],\n",
              " 'machine learning': ['algorithms', 'and', 'data', 'is'],\n",
              " 'make predictions': ['or'],\n",
              " 'making predictions': ['using'],\n",
              " 'mathematical model': ['of'],\n",
              " 'mathematical optimization': ['delivers'],\n",
              " 'methods theory': ['and'],\n",
              " 'mining is': ['field'],\n",
              " 'model of': ['sample'],\n",
              " 'models that': ['computer'],\n",
              " 'network intruders': ['and'],\n",
              " 'of algorithms': ['and'],\n",
              " 'of artificial': ['intelligence'],\n",
              " 'of email': ['filtering'],\n",
              " 'of machine': ['learning'],\n",
              " 'of mathematical': ['optimization'],\n",
              " 'of network': ['intruders'],\n",
              " 'of sample': ['data'],\n",
              " 'of specific': ['instructions'],\n",
              " 'of study': ['within'],\n",
              " 'on exploratory': ['data'],\n",
              " 'on making': ['predictions'],\n",
              " 'on patterns': ['and'],\n",
              " 'optimization delivers': ['methods'],\n",
              " 'or decisions': ['without'],\n",
              " 'order to': ['make'],\n",
              " 'patterns and': ['inference'],\n",
              " 'perform specific': ['task'],\n",
              " 'perform the': ['task'],\n",
              " 'performing the': ['task'],\n",
              " 'predictions or': ['decisions'],\n",
              " 'predictions using': ['computers'],\n",
              " 'problems machine': ['learning'],\n",
              " 'programmed to': ['perform'],\n",
              " 'referred to': ['as'],\n",
              " 'related to': ['computational'],\n",
              " 'relying on': ['patterns'],\n",
              " 'sample data': ['known'],\n",
              " 'scientific study': ['of'],\n",
              " 'seen as': ['subset'],\n",
              " 'specific instructions': ['for'],\n",
              " 'specific task': ['without'],\n",
              " 'statistical models': ['that'],\n",
              " 'statistics which': ['focuses'],\n",
              " 'study of': ['algorithms', 'mathematical'],\n",
              " 'study within': ['machine'],\n",
              " 'subset of': ['artificial'],\n",
              " 'systems use': ['to'],\n",
              " 'task machine': ['learning'],\n",
              " 'task without': ['using'],\n",
              " 'that computer': ['systems'],\n",
              " 'the applications': ['of'],\n",
              " 'the field': ['of'],\n",
              " 'the scientific': ['study'],\n",
              " 'the study': ['of'],\n",
              " 'the task': ['machine'],\n",
              " 'theory and': ['application'],\n",
              " 'through unsupervised': ['learning'],\n",
              " 'to as': ['predictive'],\n",
              " 'to computational': ['statistics'],\n",
              " 'to develop': ['an'],\n",
              " 'to effectively': ['perform'],\n",
              " 'to make': ['predictions'],\n",
              " 'to perform': ['the'],\n",
              " 'to the': ['field'],\n",
              " 'training data': ['in'],\n",
              " 'unsupervised learning': ['in'],\n",
              " 'use to': ['effectively'],\n",
              " 'used in': ['the'],\n",
              " 'using computers': ['the'],\n",
              " 'using explicit': ['instructions'],\n",
              " 'vision where': ['it'],\n",
              " 'where it': ['is'],\n",
              " 'which focuses': ['on'],\n",
              " 'within machine': ['learning'],\n",
              " 'without being': ['explicitly'],\n",
              " 'without using': ['explicit']}"
            ]
          },
          "metadata": {},
          "execution_count": 12
        }
      ]
    },
    {
      "cell_type": "code",
      "source": [
        "# Helper function that picks the following word.\n",
        "def predict_next(a_nm1_gram):\n",
        "    value_list_size = len(my_dict[a_nm1_gram])         # length of the value corresponding to the key = a_nm1_gram.\n",
        "    i_pick = randint(0, value_list_size)               # A random number from the range 0 ~ value_list_size.\n",
        "    return(my_dict[a_nm1_gram][i_pick])                  # Return the randomly chosen next word."
      ],
      "metadata": {
        "id": "qRWWNlkvCz1j"
      },
      "execution_count": 13,
      "outputs": []
    },
    {
      "cell_type": "code",
      "source": [
        "# Test.\n",
        "input_str = 'order to'                                 # Has to be a VALID (n-1)-Gram!\n",
        "predict_next(input_str)"
      ],
      "metadata": {
        "colab": {
          "base_uri": "https://localhost:8080/",
          "height": 35
        },
        "id": "67OJENA4C5Sh",
        "outputId": "88d1b6ec-e34a-4617-87c5-efacc0001532"
      },
      "execution_count": 14,
      "outputs": [
        {
          "output_type": "execute_result",
          "data": {
            "text/plain": [
              "'make'"
            ],
            "application/vnd.google.colaboratory.intrinsic+json": {
              "type": "string"
            }
          },
          "metadata": {},
          "execution_count": 14
        }
      ]
    },
    {
      "cell_type": "code",
      "source": [
        "# Another test.\n",
        "# Repeat for 10 times and see that the next word is chosen randomly with a probability proportional to the occurrence.\n",
        "input_str = 'machine learning'                                 # Has to be a VALID (n-1)-Gram!\n",
        "for i in range(10):\n",
        "    print(predict_next(input_str))"
      ],
      "metadata": {
        "colab": {
          "base_uri": "https://localhost:8080/"
        },
        "id": "MIEIHY0CC8Kp",
        "outputId": "38d13f00-5c51-4c81-fdcb-c34806230281"
      },
      "execution_count": 15,
      "outputs": [
        {
          "output_type": "stream",
          "name": "stdout",
          "text": [
            "is\n",
            "data\n",
            "data\n",
            "is\n",
            "is\n",
            "algorithms\n",
            "is\n",
            "is\n",
            "is\n",
            "and\n"
          ]
        }
      ]
    },
    {
      "cell_type": "code",
      "source": [
        "# Initialize the random seed.\n",
        "seed(123)"
      ],
      "metadata": {
        "id": "yLf7vCRBC9kB"
      },
      "execution_count": 16,
      "outputs": []
    },
    {
      "cell_type": "code",
      "source": [
        "# A seed string has to be input by the user.\n",
        "my_seed_str = 'machine learning'                                   # Has to be a VALID (n-1)-Gram!\n",
        "# my_seed_str = 'in order'                                         # Has to be a VALID (n-1)-Gram!"
      ],
      "metadata": {
        "id": "r_Oo35kQDDxj"
      },
      "execution_count": 17,
      "outputs": []
    },
    {
      "cell_type": "code",
      "source": [
        "a_nm1_gram = my_seed_str\n",
        "output_string = my_seed_str                                         # Initialize the output string.\n",
        "while a_nm1_gram in my_dict:\n",
        "    output_string += \" \" + predict_next(a_nm1_gram)\n",
        "    words = nltk.word_tokenize(output_string)\n",
        "    a_nm1_gram = ' '.join(words[-n+1:])                            # Update a_nm1_gram."
      ],
      "metadata": {
        "id": "UF8mfRNWDFVq"
      },
      "execution_count": 18,
      "outputs": []
    },
    {
      "cell_type": "code",
      "source": [
        "# Output the predicted sequence.\n",
        "output_string"
      ],
      "metadata": {
        "id": "tRKdrbCoDIzN",
        "outputId": "c7d38774-2e26-44df-ab5e-d1c1da42a920",
        "colab": {
          "base_uri": "https://localhost:8080/",
          "height": 122
        }
      },
      "execution_count": 19,
      "outputs": [
        {
          "output_type": "execute_result",
          "data": {
            "text/plain": [
              "'machine learning data mining is field of study within machine learning data mining is field of machine learning algorithms are used in the applications of email filtering detection of network intruders and computer vision where it is infeasible to develop an algorithm of specific instructions for performing the task machine learning and focuses on making predictions using computers the study of algorithms and statistical models that computer systems use to effectively perform specific task without using explicit instructions relying on patterns and inference instead it is seen as subset of artificial intelligence machine learning and focuses on exploratory data analysis through unsupervised learning in its application across business problems machine learning and focuses on exploratory data analysis through unsupervised learning in its application across business problems machine learning and focuses on exploratory data analysis through unsupervised learning in its application across business problems machine learning is closely related to computational statistics which focuses on exploratory data analysis through unsupervised learning in its application across business problems machine learning data mining is field of machine learning is closely related to computational statistics which focuses on making predictions using computers the study of algorithms and statistical models that computer systems use to effectively perform specific task without using explicit instructions relying on patterns and inference instead it is seen as subset of artificial intelligence machine learning algorithms are used in the applications of email filtering detection of network intruders and computer vision where it is infeasible to develop an algorithm of specific instructions for performing the task machine learning algorithms build mathematical model of sample data known as training data in order to make predictions or decisions without being explicitly programmed to perform the task machine learning is the scientific study of algorithms and statistical models that computer systems use to effectively perform specific task without using explicit instructions relying on patterns and inference instead it is seen as subset of artificial intelligence machine learning data mining is field of machine learning is also referred to as predictive analytics'"
            ],
            "application/vnd.google.colaboratory.intrinsic+json": {
              "type": "string"
            }
          },
          "metadata": {},
          "execution_count": 19
        }
      ]
    }
  ]
}