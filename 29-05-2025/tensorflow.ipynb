{
  "nbformat": 4,
  "nbformat_minor": 0,
  "metadata": {
    "colab": {
      "provenance": []
    },
    "kernelspec": {
      "name": "python3",
      "display_name": "Python 3"
    },
    "language_info": {
      "name": "python"
    }
  },
  "cells": [
    {
      "cell_type": "code",
      "execution_count": 2,
      "metadata": {
        "id": "7u0F8zFSfE3u"
      },
      "outputs": [],
      "source": [
        "import tensorflow as tf"
      ]
    },
    {
      "cell_type": "code",
      "source": [
        "tf.__version__"
      ],
      "metadata": {
        "colab": {
          "base_uri": "https://localhost:8080/",
          "height": 35
        },
        "id": "M-sfpqeMfKwu",
        "outputId": "2c6ef9fc-9792-4b4d-c70e-67cf8a10f48c"
      },
      "execution_count": 3,
      "outputs": [
        {
          "output_type": "execute_result",
          "data": {
            "text/plain": [
              "'2.18.0'"
            ],
            "application/vnd.google.colaboratory.intrinsic+json": {
              "type": "string"
            }
          },
          "metadata": {},
          "execution_count": 3
        }
      ]
    },
    {
      "cell_type": "code",
      "source": [
        "import numpy as np"
      ],
      "metadata": {
        "id": "YRe3zdOrfOj5"
      },
      "execution_count": 4,
      "outputs": []
    },
    {
      "cell_type": "code",
      "source": [
        "a = np.array([1,2,3], dtype = np.int32)\n",
        "b = [4, 5, 6]\n",
        "t_a = tf.convert_to_tensor(a)\n",
        "t_b = tf.convert_to_tensor(b)\n",
        "print(t_a)\n",
        "print(t_b)"
      ],
      "metadata": {
        "colab": {
          "base_uri": "https://localhost:8080/"
        },
        "id": "x4w80ej1fSvn",
        "outputId": "34b68081-7ced-4eb3-b06f-b046bd4f2169"
      },
      "execution_count": 5,
      "outputs": [
        {
          "output_type": "stream",
          "name": "stdout",
          "text": [
            "tf.Tensor([1 2 3], shape=(3,), dtype=int32)\n",
            "tf.Tensor([4 5 6], shape=(3,), dtype=int32)\n"
          ]
        }
      ]
    },
    {
      "cell_type": "code",
      "source": [
        "tf.is_tensor(t_a)"
      ],
      "metadata": {
        "colab": {
          "base_uri": "https://localhost:8080/"
        },
        "id": "71Dw4uRLf33l",
        "outputId": "f326108e-4b31-4e66-8187-2e777b48034b"
      },
      "execution_count": 6,
      "outputs": [
        {
          "output_type": "execute_result",
          "data": {
            "text/plain": [
              "True"
            ]
          },
          "metadata": {},
          "execution_count": 6
        }
      ]
    },
    {
      "cell_type": "code",
      "source": [
        "tf.is_tensor(t_b)"
      ],
      "metadata": {
        "colab": {
          "base_uri": "https://localhost:8080/"
        },
        "id": "_jjkM4oSf80E",
        "outputId": "28efd752-0d47-4c6c-e6f5-eacd5b6cdc26"
      },
      "execution_count": 7,
      "outputs": [
        {
          "output_type": "execute_result",
          "data": {
            "text/plain": [
              "True"
            ]
          },
          "metadata": {},
          "execution_count": 7
        }
      ]
    },
    {
      "cell_type": "code",
      "source": [
        "tf.is_tensor(a)"
      ],
      "metadata": {
        "colab": {
          "base_uri": "https://localhost:8080/"
        },
        "id": "F8ezWFw1gCgE",
        "outputId": "6331c6e7-d3b2-4cc7-f282-e34a33ec8ad9"
      },
      "execution_count": 8,
      "outputs": [
        {
          "output_type": "execute_result",
          "data": {
            "text/plain": [
              "False"
            ]
          },
          "metadata": {},
          "execution_count": 8
        }
      ]
    },
    {
      "cell_type": "code",
      "source": [
        "t_one = tf.ones((2, 3 ))\n",
        "t_one.shape"
      ],
      "metadata": {
        "colab": {
          "base_uri": "https://localhost:8080/"
        },
        "id": "iV2B41bzgT6n",
        "outputId": "1ba2e893-1731-4e3f-c80d-3a43b067762f"
      },
      "execution_count": 9,
      "outputs": [
        {
          "output_type": "execute_result",
          "data": {
            "text/plain": [
              "TensorShape([2, 3])"
            ]
          },
          "metadata": {},
          "execution_count": 9
        }
      ]
    },
    {
      "cell_type": "code",
      "source": [
        "t_one.numpy()"
      ],
      "metadata": {
        "colab": {
          "base_uri": "https://localhost:8080/"
        },
        "id": "rkSgLj5aga4e",
        "outputId": "65e194c9-1df0-49a7-e9e4-717d2088d371"
      },
      "execution_count": 10,
      "outputs": [
        {
          "output_type": "execute_result",
          "data": {
            "text/plain": [
              "array([[1., 1., 1.],\n",
              "       [1., 1., 1.]], dtype=float32)"
            ]
          },
          "metadata": {},
          "execution_count": 10
        }
      ]
    },
    {
      "cell_type": "code",
      "source": [
        "t_const = tf.constant([2, 3, np.pi], dtype = np.float32)"
      ],
      "metadata": {
        "id": "q9PKJergg5yW"
      },
      "execution_count": 11,
      "outputs": []
    },
    {
      "cell_type": "code",
      "source": [
        "print(t_const)"
      ],
      "metadata": {
        "colab": {
          "base_uri": "https://localhost:8080/"
        },
        "id": "5CBkFUrDhBwr",
        "outputId": "ebaedef9-c98c-4ad4-a3d4-acf6cb538718"
      },
      "execution_count": 12,
      "outputs": [
        {
          "output_type": "stream",
          "name": "stdout",
          "text": [
            "tf.Tensor([2.        3.        3.1415927], shape=(3,), dtype=float32)\n"
          ]
        }
      ]
    },
    {
      "cell_type": "code",
      "source": [
        "t_fill = tf.fill((2,3,4), 4)"
      ],
      "metadata": {
        "id": "vaXqecy2hDdJ"
      },
      "execution_count": 13,
      "outputs": []
    },
    {
      "cell_type": "code",
      "source": [
        "print(t_fill)"
      ],
      "metadata": {
        "colab": {
          "base_uri": "https://localhost:8080/"
        },
        "id": "4mytyD15hXxb",
        "outputId": "e6ee6bd6-17db-4fee-dfa5-bfd939eb3fe1"
      },
      "execution_count": 14,
      "outputs": [
        {
          "output_type": "stream",
          "name": "stdout",
          "text": [
            "tf.Tensor(\n",
            "[[[4 4 4 4]\n",
            "  [4 4 4 4]\n",
            "  [4 4 4 4]]\n",
            "\n",
            " [[4 4 4 4]\n",
            "  [4 4 4 4]\n",
            "  [4 4 4 4]]], shape=(2, 3, 4), dtype=int32)\n"
          ]
        }
      ]
    },
    {
      "cell_type": "code",
      "source": [
        "t_fill = tf.fill((2,3,4,5), 5)"
      ],
      "metadata": {
        "id": "BaRoLplKhany"
      },
      "execution_count": 15,
      "outputs": []
    },
    {
      "cell_type": "code",
      "source": [
        "print(t_fill)"
      ],
      "metadata": {
        "colab": {
          "base_uri": "https://localhost:8080/"
        },
        "id": "wWha-SzXhfUN",
        "outputId": "cc7aac50-cdd0-45e3-a449-842d4d5b0091"
      },
      "execution_count": 16,
      "outputs": [
        {
          "output_type": "stream",
          "name": "stdout",
          "text": [
            "tf.Tensor(\n",
            "[[[[5 5 5 5 5]\n",
            "   [5 5 5 5 5]\n",
            "   [5 5 5 5 5]\n",
            "   [5 5 5 5 5]]\n",
            "\n",
            "  [[5 5 5 5 5]\n",
            "   [5 5 5 5 5]\n",
            "   [5 5 5 5 5]\n",
            "   [5 5 5 5 5]]\n",
            "\n",
            "  [[5 5 5 5 5]\n",
            "   [5 5 5 5 5]\n",
            "   [5 5 5 5 5]\n",
            "   [5 5 5 5 5]]]\n",
            "\n",
            "\n",
            " [[[5 5 5 5 5]\n",
            "   [5 5 5 5 5]\n",
            "   [5 5 5 5 5]\n",
            "   [5 5 5 5 5]]\n",
            "\n",
            "  [[5 5 5 5 5]\n",
            "   [5 5 5 5 5]\n",
            "   [5 5 5 5 5]\n",
            "   [5 5 5 5 5]]\n",
            "\n",
            "  [[5 5 5 5 5]\n",
            "   [5 5 5 5 5]\n",
            "   [5 5 5 5 5]\n",
            "   [5 5 5 5 5]]]], shape=(2, 3, 4, 5), dtype=int32)\n"
          ]
        }
      ]
    },
    {
      "cell_type": "code",
      "source": [
        "tf.cast(t_a, dtype = tf.int64)"
      ],
      "metadata": {
        "colab": {
          "base_uri": "https://localhost:8080/"
        },
        "id": "7wzNXSj_hz1Y",
        "outputId": "48609d70-ba92-4a9e-cecc-9ab59b79e5bc"
      },
      "execution_count": 17,
      "outputs": [
        {
          "output_type": "execute_result",
          "data": {
            "text/plain": [
              "<tf.Tensor: shape=(3,), dtype=int64, numpy=array([1, 2, 3])>"
            ]
          },
          "metadata": {},
          "execution_count": 17
        }
      ]
    },
    {
      "cell_type": "code",
      "source": [
        "t_zeros = tf.zeros((30,))\n",
        "print(t_zeros)"
      ],
      "metadata": {
        "colab": {
          "base_uri": "https://localhost:8080/"
        },
        "id": "WFF2gaJxiLBe",
        "outputId": "504e5100-85bc-4eef-f4f1-b0bf708b750a"
      },
      "execution_count": 18,
      "outputs": [
        {
          "output_type": "stream",
          "name": "stdout",
          "text": [
            "tf.Tensor(\n",
            "[0. 0. 0. 0. 0. 0. 0. 0. 0. 0. 0. 0. 0. 0. 0. 0. 0. 0. 0. 0. 0. 0. 0. 0.\n",
            " 0. 0. 0. 0. 0. 0.], shape=(30,), dtype=float32)\n"
          ]
        }
      ]
    },
    {
      "cell_type": "code",
      "source": [
        "t_tran = tf.reshape(t_zeros, shape = (5,6))\n",
        "print(t_tran)"
      ],
      "metadata": {
        "colab": {
          "base_uri": "https://localhost:8080/"
        },
        "id": "iEyn7OPoiQpc",
        "outputId": "2f2fbc3a-d928-4b59-9683-f18135958e6f"
      },
      "execution_count": 19,
      "outputs": [
        {
          "output_type": "stream",
          "name": "stdout",
          "text": [
            "tf.Tensor(\n",
            "[[0. 0. 0. 0. 0. 0.]\n",
            " [0. 0. 0. 0. 0. 0.]\n",
            " [0. 0. 0. 0. 0. 0.]\n",
            " [0. 0. 0. 0. 0. 0.]\n",
            " [0. 0. 0. 0. 0. 0.]], shape=(5, 6), dtype=float32)\n"
          ]
        }
      ]
    },
    {
      "cell_type": "code",
      "source": [
        "t = tf.zeros((1,2,1,4,1))\n",
        "print(t)\n",
        "t_sqz= tf.squeeze(t, axis = (2, 4))\n",
        "print(t_sqz)"
      ],
      "metadata": {
        "colab": {
          "base_uri": "https://localhost:8080/"
        },
        "id": "pIusMhBUifrA",
        "outputId": "26f41d31-6fc5-4229-c642-ad58b69589fb"
      },
      "execution_count": 20,
      "outputs": [
        {
          "output_type": "stream",
          "name": "stdout",
          "text": [
            "tf.Tensor(\n",
            "[[[[[0.]\n",
            "    [0.]\n",
            "    [0.]\n",
            "    [0.]]]\n",
            "\n",
            "\n",
            "  [[[0.]\n",
            "    [0.]\n",
            "    [0.]\n",
            "    [0.]]]]], shape=(1, 2, 1, 4, 1), dtype=float32)\n",
            "tf.Tensor(\n",
            "[[[0. 0. 0. 0.]\n",
            "  [0. 0. 0. 0.]]], shape=(1, 2, 4), dtype=float32)\n"
          ]
        }
      ]
    },
    {
      "cell_type": "code",
      "source": [
        "tf.random.set_seed(1)\n",
        "\n",
        "t1 = tf.random.uniform(shape = (5,2), minval = -1, maxval = 1)\n",
        "t2 = tf.random.normal(shape = (5,2), mean = 0.0, stddev = 1.0)\n",
        "print(t1, t2)"
      ],
      "metadata": {
        "colab": {
          "base_uri": "https://localhost:8080/"
        },
        "id": "YqrwhRJnlS7i",
        "outputId": "5b1d08ef-3d3b-4541-f1f3-4c06fb823147"
      },
      "execution_count": 21,
      "outputs": [
        {
          "output_type": "stream",
          "name": "stdout",
          "text": [
            "tf.Tensor(\n",
            "[[-0.6697383   0.80296254]\n",
            " [ 0.26194835 -0.13090777]\n",
            " [-0.41612196  0.28500414]\n",
            " [ 0.951571   -0.12980103]\n",
            " [ 0.32020378  0.20979166]], shape=(5, 2), dtype=float32) tf.Tensor(\n",
            "[[ 0.40308788 -1.0880208 ]\n",
            " [-0.06309535  1.3365567 ]\n",
            " [ 0.7117601  -0.48928645]\n",
            " [-0.7642213  -1.0372486 ]\n",
            " [-1.2519338   0.02122428]], shape=(5, 2), dtype=float32)\n"
          ]
        }
      ]
    },
    {
      "cell_type": "code",
      "source": [
        "t3 = tf.multiply(t1, t2).numpy()\n",
        "print(t3)"
      ],
      "metadata": {
        "colab": {
          "base_uri": "https://localhost:8080/"
        },
        "id": "W1uXUk4nlmp-",
        "outputId": "49372e80-1e72-4c82-c6f1-ad2b581096f0"
      },
      "execution_count": 22,
      "outputs": [
        {
          "output_type": "stream",
          "name": "stdout",
          "text": [
            "[[-0.26996338 -0.87363994]\n",
            " [-0.01652772 -0.17496566]\n",
            " [-0.296179   -0.13944866]\n",
            " [-0.7272108   0.13463594]\n",
            " [-0.40087393  0.00445268]]\n"
          ]
        }
      ]
    },
    {
      "cell_type": "code",
      "source": [
        "t4 = tf.math.reduce_mean(t1, axis = 0)\n",
        "print(t4)"
      ],
      "metadata": {
        "colab": {
          "base_uri": "https://localhost:8080/"
        },
        "id": "OJhuhexdluAH",
        "outputId": "89ae657e-b88a-48b3-f02f-bf455ff3a7b1"
      },
      "execution_count": 23,
      "outputs": [
        {
          "output_type": "stream",
          "name": "stdout",
          "text": [
            "tf.Tensor([0.08957257 0.2074099 ], shape=(2,), dtype=float32)\n"
          ]
        }
      ]
    },
    {
      "cell_type": "code",
      "source": [
        "t5 = tf.linalg.matmul(t1, t2, transpose_b = True)\n",
        "print(t5.numpy())"
      ],
      "metadata": {
        "colab": {
          "base_uri": "https://localhost:8080/"
        },
        "id": "3yOuEVx0nM1b",
        "outputId": "dfa0061e-a196-4a27-eb17-d30fbd62e915"
      },
      "execution_count": 24,
      "outputs": [
        {
          "output_type": "stream",
          "name": "stdout",
          "text": [
            "[[-1.1436033   1.1154624  -0.8695717  -0.3210435   0.8555103 ]\n",
            " [ 0.2480186  -0.19149339  0.2504958  -0.0644026  -0.3307204 ]\n",
            " [-0.47782415  0.40717956 -0.43562764  0.02238911  0.5270062 ]\n",
            " [ 0.52479297 -0.23352614  0.74080014 -0.5925749  -1.1940588 ]\n",
            " [-0.09918742  0.26019508  0.12526006 -0.46231267 -0.39642125]]\n"
          ]
        }
      ]
    },
    {
      "cell_type": "code",
      "source": [
        "t6 = tf.linalg.matmul(t1, t2, transpose_a = True)\n",
        "print(t6.numpy())"
      ],
      "metadata": {
        "colab": {
          "base_uri": "https://localhost:8080/"
        },
        "id": "MOu69ZcEnXkm",
        "outputId": "6fca8bd7-59c9-4aa3-fba8-11dc03f587dc"
      },
      "execution_count": 25,
      "outputs": [
        {
          "output_type": "stream",
          "name": "stdout",
          "text": [
            "[[-1.7107549   0.30218127]\n",
            " [ 0.37133017 -1.0489656 ]]\n"
          ]
        }
      ]
    },
    {
      "cell_type": "code",
      "source": [
        "print(t1)\n",
        "norm_t1 = tf.norm(t1, ord = 2, axis = 1).numpy()\n",
        "print(norm_t1)"
      ],
      "metadata": {
        "colab": {
          "base_uri": "https://localhost:8080/"
        },
        "id": "tCTt3J9WneLj",
        "outputId": "5a584898-ea11-4af3-da8b-c0b11f3ce248"
      },
      "execution_count": 26,
      "outputs": [
        {
          "output_type": "stream",
          "name": "stdout",
          "text": [
            "tf.Tensor(\n",
            "[[-0.6697383   0.80296254]\n",
            " [ 0.26194835 -0.13090777]\n",
            " [-0.41612196  0.28500414]\n",
            " [ 0.951571   -0.12980103]\n",
            " [ 0.32020378  0.20979166]], shape=(5, 2), dtype=float32)\n",
            "[1.045609   0.29283747 0.5043658  0.9603831  0.38280934]\n"
          ]
        }
      ]
    },
    {
      "cell_type": "code",
      "source": [
        "norm_t1 = np.sqrt(np.sum(np.square(t1.numpy()), axis = 1))\n",
        "print(norm_t1)"
      ],
      "metadata": {
        "colab": {
          "base_uri": "https://localhost:8080/"
        },
        "id": "ThSDkHhqoYHV",
        "outputId": "02544ab7-c764-4f7f-bd40-79caacd1cf04"
      },
      "execution_count": 27,
      "outputs": [
        {
          "output_type": "stream",
          "name": "stdout",
          "text": [
            "[1.045609   0.29283747 0.5043658  0.9603831  0.38280934]\n"
          ]
        }
      ]
    },
    {
      "cell_type": "code",
      "source": [
        "t1 @ tf.transpose(t2)"
      ],
      "metadata": {
        "colab": {
          "base_uri": "https://localhost:8080/"
        },
        "id": "Rj0rPQLTJlwH",
        "outputId": "2cbd0e37-2b6a-4530-99ad-96ac73e54883"
      },
      "execution_count": 28,
      "outputs": [
        {
          "output_type": "execute_result",
          "data": {
            "text/plain": [
              "<tf.Tensor: shape=(5, 5), dtype=float32, numpy=\n",
              "array([[-1.1436033 ,  1.1154624 , -0.8695717 , -0.3210435 ,  0.8555103 ],\n",
              "       [ 0.2480186 , -0.19149339,  0.2504958 , -0.0644026 , -0.3307204 ],\n",
              "       [-0.47782415,  0.40717956, -0.43562764,  0.02238911,  0.5270062 ],\n",
              "       [ 0.52479297, -0.23352614,  0.74080014, -0.5925749 , -1.1940588 ],\n",
              "       [-0.09918742,  0.26019508,  0.12526006, -0.46231267, -0.39642125]],\n",
              "      dtype=float32)>"
            ]
          },
          "metadata": {},
          "execution_count": 28
        }
      ]
    },
    {
      "cell_type": "code",
      "source": [
        "tf.random.set_seed(1)\n",
        "t = tf.random.uniform((6,))\n",
        "print(t.numpy())\n",
        "t_splits = tf.split(t, 3)\n",
        "[item.numpy() for item in t_splits]"
      ],
      "metadata": {
        "colab": {
          "base_uri": "https://localhost:8080/"
        },
        "id": "YuC08l-7KDek",
        "outputId": "8671bdeb-2856-462b-d41b-8fffd3c7ea9b"
      },
      "execution_count": 29,
      "outputs": [
        {
          "output_type": "stream",
          "name": "stdout",
          "text": [
            "[0.16513085 0.9014813  0.6309742  0.4345461  0.29193902 0.64250207]\n"
          ]
        },
        {
          "output_type": "execute_result",
          "data": {
            "text/plain": [
              "[array([0.16513085, 0.9014813 ], dtype=float32),\n",
              " array([0.6309742, 0.4345461], dtype=float32),\n",
              " array([0.29193902, 0.64250207], dtype=float32)]"
            ]
          },
          "metadata": {},
          "execution_count": 29
        }
      ]
    },
    {
      "cell_type": "code",
      "source": [
        "A = tf.zeros((3,))\n",
        "B = tf.ones((2,))\n",
        "C = tf.concat([A, B], axis = 0) #Nối song song\n",
        "print(C.numpy())"
      ],
      "metadata": {
        "colab": {
          "base_uri": "https://localhost:8080/"
        },
        "id": "P4KRX5G9KZGd",
        "outputId": "3e26dce4-37c1-4a78-8f2f-154efd3fffbf"
      },
      "execution_count": 30,
      "outputs": [
        {
          "output_type": "stream",
          "name": "stdout",
          "text": [
            "[0. 0. 0. 1. 1.]\n"
          ]
        }
      ]
    },
    {
      "cell_type": "code",
      "source": [
        "A = tf.zeros((3,))\n",
        "B = tf.ones((3,))\n",
        "C = tf.stack([A, B], axis = 0)\n",
        "print(C.numpy())"
      ],
      "metadata": {
        "colab": {
          "base_uri": "https://localhost:8080/"
        },
        "id": "R9y5F6gtK3iT",
        "outputId": "4939e179-b57c-424a-e51c-e18c39a96d83"
      },
      "execution_count": 31,
      "outputs": [
        {
          "output_type": "stream",
          "name": "stdout",
          "text": [
            "[[0. 0. 0.]\n",
            " [1. 1. 1.]]\n"
          ]
        }
      ]
    },
    {
      "cell_type": "code",
      "source": [
        "a = [1.2, 3.4, 5.6, 7.8, 9.1, 4.0]\n",
        "ds = tf.data.Dataset.from_tensor_slices(a)\n",
        "print(ds)"
      ],
      "metadata": {
        "colab": {
          "base_uri": "https://localhost:8080/"
        },
        "id": "V7Fam6p7LDLx",
        "outputId": "de823980-a18f-4443-a6f1-21b2e6e9b56b"
      },
      "execution_count": 32,
      "outputs": [
        {
          "output_type": "stream",
          "name": "stdout",
          "text": [
            "<_TensorSliceDataset element_spec=TensorSpec(shape=(), dtype=tf.float32, name=None)>\n"
          ]
        }
      ]
    },
    {
      "cell_type": "code",
      "source": [
        "for item in ds:\n",
        "  print(item.numpy())"
      ],
      "metadata": {
        "colab": {
          "base_uri": "https://localhost:8080/"
        },
        "id": "33NqfhD9LcuL",
        "outputId": "03e615af-a6b5-4b44-9201-965bd5b71686"
      },
      "execution_count": 33,
      "outputs": [
        {
          "output_type": "stream",
          "name": "stdout",
          "text": [
            "1.2\n",
            "3.4\n",
            "5.6\n",
            "7.8\n",
            "9.1\n",
            "4.0\n"
          ]
        }
      ]
    },
    {
      "cell_type": "code",
      "source": [
        "ds_batch = ds.batch(3)\n",
        "for i, elem in enumerate(ds_batch, 100):\n",
        "  print(\"batch {}\".format(i), elem.numpy())"
      ],
      "metadata": {
        "colab": {
          "base_uri": "https://localhost:8080/"
        },
        "id": "8e0usxTNLlz7",
        "outputId": "c3cb0b46-6cd0-4060-a769-655d789552af"
      },
      "execution_count": 34,
      "outputs": [
        {
          "output_type": "stream",
          "name": "stdout",
          "text": [
            "batch 100 [1.2 3.4 5.6]\n",
            "batch 101 [7.8 9.1 4. ]\n"
          ]
        }
      ]
    },
    {
      "cell_type": "code",
      "source": [
        "tf.random.set_seed(1)\n",
        "t_x = tf.random.uniform([4, 3], dtype = tf.float32)\n",
        "t_y = tf.range(4)\n",
        "print(t_x)\n",
        "print(t_y)"
      ],
      "metadata": {
        "colab": {
          "base_uri": "https://localhost:8080/"
        },
        "id": "i8rEoOIXoaQv",
        "outputId": "e509fafd-f77e-4d3a-8d56-cdea69103a2a"
      },
      "execution_count": 36,
      "outputs": [
        {
          "output_type": "stream",
          "name": "stdout",
          "text": [
            "tf.Tensor(\n",
            "[[0.16513085 0.9014813  0.6309742 ]\n",
            " [0.4345461  0.29193902 0.64250207]\n",
            " [0.9757855  0.43509948 0.6601019 ]\n",
            " [0.60489583 0.6366315  0.6144488 ]], shape=(4, 3), dtype=float32)\n",
            "tf.Tensor([0 1 2 3], shape=(4,), dtype=int32)\n"
          ]
        }
      ]
    },
    {
      "cell_type": "code",
      "source": [
        "ds_x = tf.data.Dataset.from_tensor_slices(t_x)\n",
        "ds_y = tf.data.Dataset.from_tensor_slices(t_y)\n",
        "\n",
        "ds_joint = tf.data.Dataset.zip((ds_x, ds_y)) #Tạo thành 1 tuple\n",
        "for example in ds_joint:\n",
        "  print(\"x: \", example[0].numpy(),\n",
        "        \"y: \", example[1].numpy())"
      ],
      "metadata": {
        "colab": {
          "base_uri": "https://localhost:8080/"
        },
        "id": "H_2_xfKqpIF9",
        "outputId": "6db67530-fb40-4afc-a1fe-9ba31c6d9b1d"
      },
      "execution_count": 38,
      "outputs": [
        {
          "output_type": "stream",
          "name": "stdout",
          "text": [
            "x:  [0.16513085 0.9014813  0.6309742 ] y:  0\n",
            "x:  [0.4345461  0.29193902 0.64250207] y:  1\n",
            "x:  [0.9757855  0.43509948 0.6601019 ] y:  2\n",
            "x:  [0.60489583 0.6366315  0.6144488 ] y:  3\n"
          ]
        }
      ]
    },
    {
      "cell_type": "code",
      "source": [
        "tf.random.set_seed(1)\n",
        "ds = ds_joint.shuffle(buffer_size = len(t_x))\n",
        "\n",
        "for example in ds:\n",
        "  print(\"x: \", example[0].numpy(),\n",
        "  \"y: \", example[1].numpy())"
      ],
      "metadata": {
        "colab": {
          "base_uri": "https://localhost:8080/"
        },
        "id": "HaG5Tb0xqdH2",
        "outputId": "7b44727c-bf74-4291-eeb4-38f81ae79711"
      },
      "execution_count": 39,
      "outputs": [
        {
          "output_type": "stream",
          "name": "stdout",
          "text": [
            "x:  [0.9757855  0.43509948 0.6601019 ] y:  2\n",
            "x:  [0.4345461  0.29193902 0.64250207] y:  1\n",
            "x:  [0.16513085 0.9014813  0.6309742 ] y:  0\n",
            "x:  [0.60489583 0.6366315  0.6144488 ] y:  3\n"
          ]
        }
      ]
    },
    {
      "cell_type": "code",
      "source": [
        "ds = ds_joint.batch(batch_size = 2, drop_remainder = False)\n",
        "batch_x, batch_y = next(iter(ds))\n",
        "for example in ds:\n",
        "  print(\"x: \", example[0].numpy(),\n",
        "        \"y: \", example[1].numpy())"
      ],
      "metadata": {
        "colab": {
          "base_uri": "https://localhost:8080/"
        },
        "id": "rJNkpkyFqxtW",
        "outputId": "e9ea3d1f-bda5-4c14-cb7b-dee35371fa8e"
      },
      "execution_count": 42,
      "outputs": [
        {
          "output_type": "stream",
          "name": "stdout",
          "text": [
            "x:  [[0.16513085 0.9014813  0.6309742 ]\n",
            " [0.4345461  0.29193902 0.64250207]] y:  [0 1]\n",
            "x:  [[0.9757855  0.43509948 0.6601019 ]\n",
            " [0.60489583 0.6366315  0.6144488 ]] y:  [2 3]\n"
          ]
        }
      ]
    },
    {
      "cell_type": "code",
      "source": [
        "ds = ds_joint.batch(3).repeat(count =2)\n",
        "\n",
        "for i,(batch_x, batch_y) in enumerate(ds):\n",
        "  print(i, batch_x.shape, batch_y.numpy())"
      ],
      "metadata": {
        "colab": {
          "base_uri": "https://localhost:8080/"
        },
        "id": "AHwcWVOYsI37",
        "outputId": "f83bbda5-4619-4cb7-eb94-1a4489d0b1d8"
      },
      "execution_count": 43,
      "outputs": [
        {
          "output_type": "stream",
          "name": "stdout",
          "text": [
            "0 (3, 3) [0 1 2]\n",
            "1 (1, 3) [3]\n",
            "2 (3, 3) [0 1 2]\n",
            "3 (1, 3) [3]\n"
          ]
        }
      ]
    },
    {
      "cell_type": "code",
      "source": [
        "ds = ds_joint.repeat(count=2).batch(3)\n",
        "for i, (batch_x, batch_y) in enumerate(ds):\n",
        "  print(i, batch_x.shape, batch_y.numpy())"
      ],
      "metadata": {
        "colab": {
          "base_uri": "https://localhost:8080/"
        },
        "id": "-dmcWjV7s1Ff",
        "outputId": "8cdf39e9-3721-4ef1-a294-90ece465ccd3"
      },
      "execution_count": 44,
      "outputs": [
        {
          "output_type": "stream",
          "name": "stdout",
          "text": [
            "0 (3, 3) [0 1 2]\n",
            "1 (3, 3) [3 0 1]\n",
            "2 (2, 3) [2 3]\n"
          ]
        }
      ]
    },
    {
      "cell_type": "code",
      "source": [
        "#shuffle=>batch=>repeat\n",
        "ds = ds_joint.shuffle(4).batch(3).repeat(2)\n",
        "for i, (batch_x, batch_y) in enumerate(ds):\n",
        "  print(i, batch_x.shape, batch_y.numpy())"
      ],
      "metadata": {
        "colab": {
          "base_uri": "https://localhost:8080/"
        },
        "id": "RDKlDsijtQs9",
        "outputId": "7a9b6359-f395-40dc-b342-65bd72266490"
      },
      "execution_count": 45,
      "outputs": [
        {
          "output_type": "stream",
          "name": "stdout",
          "text": [
            "0 (3, 3) [1 2 3]\n",
            "1 (1, 3) [0]\n",
            "2 (3, 3) [1 3 0]\n",
            "3 (1, 3) [2]\n"
          ]
        }
      ]
    },
    {
      "cell_type": "code",
      "source": [],
      "metadata": {
        "id": "dYhRHWiWtiv8"
      },
      "execution_count": null,
      "outputs": []
    }
  ]
}