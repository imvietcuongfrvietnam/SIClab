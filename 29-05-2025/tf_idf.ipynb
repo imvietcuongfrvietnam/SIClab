{
  "nbformat": 4,
  "nbformat_minor": 0,
  "metadata": {
    "colab": {
      "provenance": []
    },
    "kernelspec": {
      "name": "python3",
      "display_name": "Python 3"
    },
    "language_info": {
      "name": "python"
    }
  },
  "cells": [
    {
      "cell_type": "code",
      "execution_count": 1,
      "metadata": {
        "id": "EtQoxhguJcHS"
      },
      "outputs": [],
      "source": [
        "import nltk\n",
        "import numpy as np\n",
        "from nltk.corpus import stopwords\n",
        "from sklearn.feature_extraction.text import TfidfVectorizer\n",
        "from sklearn.metrics import pairwise_distances"
      ]
    },
    {
      "cell_type": "code",
      "source": [
        "# The data.\n",
        "my_docs = [\"The economic slowdown is becoming more severe\",\n",
        "           \"The movie was simply awesome\",\n",
        "           \"I like cooking my own food\",\n",
        "           \"Samsung is announcing a new technology\",\n",
        "           \"Machine Learning is an example of awesome technology\",\n",
        "           \"All of us were excited at the movie\",\n",
        "           \"We have to do more to reverse the economic slowdown\"]"
      ],
      "metadata": {
        "id": "v-XfEEYNLSET"
      },
      "execution_count": 2,
      "outputs": []
    },
    {
      "cell_type": "code",
      "source": [
        "my_docs = [x.lower() for x in my_docs]"
      ],
      "metadata": {
        "id": "dK5qGXQyLTzg"
      },
      "execution_count": 3,
      "outputs": []
    },
    {
      "cell_type": "code",
      "source": [
        "import nltk\n",
        "nltk.download('stopwords')\n",
        "vectorizer = TfidfVectorizer(max_features = 10, min_df = 1, max_df = 3, stop_words = stopwords.words('english'))\n",
        "X = vectorizer.fit_transform(my_docs).toarray()"
      ],
      "metadata": {
        "colab": {
          "base_uri": "https://localhost:8080/"
        },
        "id": "A_4M86zbLdVm",
        "outputId": "5563506d-0672-44d4-9d02-3a7bf7b4451d"
      },
      "execution_count": 5,
      "outputs": [
        {
          "output_type": "stream",
          "name": "stderr",
          "text": [
            "[nltk_data] Downloading package stopwords to /root/nltk_data...\n",
            "[nltk_data]   Unzipping corpora/stopwords.zip.\n"
          ]
        }
      ]
    },
    {
      "cell_type": "code",
      "source": [
        "X"
      ],
      "metadata": {
        "colab": {
          "base_uri": "https://localhost:8080/"
        },
        "id": "dTnsnVeBLo5P",
        "outputId": "3d2d7fe1-bd09-4775-c71f-d48ff7dceb68"
      },
      "execution_count": 6,
      "outputs": [
        {
          "output_type": "execute_result",
          "data": {
            "text/plain": [
              "array([[0.        , 0.64846464, 0.        , 0.53828134, 0.        ,\n",
              "        0.        , 0.        , 0.        , 0.53828134, 0.        ],\n",
              "       [0.70710678, 0.        , 0.        , 0.        , 0.        ,\n",
              "        0.        , 0.        , 0.70710678, 0.        , 0.        ],\n",
              "       [0.        , 0.        , 0.70710678, 0.        , 0.        ,\n",
              "        0.70710678, 0.        , 0.        , 0.        , 0.        ],\n",
              "       [0.        , 0.        , 0.        , 0.        , 0.        ,\n",
              "        0.        , 0.        , 0.        , 0.        , 1.        ],\n",
              "       [0.45163515, 0.        , 0.        , 0.        , 0.54408243,\n",
              "        0.        , 0.54408243, 0.        , 0.        , 0.45163515],\n",
              "       [0.        , 0.        , 0.        , 0.        , 0.        ,\n",
              "        0.        , 0.        , 1.        , 0.        , 0.        ],\n",
              "       [0.        , 0.        , 0.        , 0.70710678, 0.        ,\n",
              "        0.        , 0.        , 0.        , 0.70710678, 0.        ]])"
            ]
          },
          "metadata": {},
          "execution_count": 6
        }
      ]
    },
    {
      "cell_type": "code",
      "source": [
        "X.shape"
      ],
      "metadata": {
        "colab": {
          "base_uri": "https://localhost:8080/"
        },
        "id": "9On7GbmPLsjK",
        "outputId": "2fab0f2d-bf3a-4069-853d-268e291a9139"
      },
      "execution_count": 7,
      "outputs": [
        {
          "output_type": "execute_result",
          "data": {
            "text/plain": [
              "(7, 10)"
            ]
          },
          "metadata": {},
          "execution_count": 7
        }
      ]
    },
    {
      "cell_type": "code",
      "source": [
        "# Output the features.\n",
        "print(vectorizer.get_feature_names_out())"
      ],
      "metadata": {
        "colab": {
          "base_uri": "https://localhost:8080/"
        },
        "id": "Tr2moNhHL4Ex",
        "outputId": "15b07b5c-6209-4703-8370-36cca78e0f7f"
      },
      "execution_count": 8,
      "outputs": [
        {
          "output_type": "stream",
          "name": "stdout",
          "text": [
            "['awesome' 'becoming' 'cooking' 'economic' 'example' 'food' 'learning'\n",
            " 'movie' 'slowdown' 'technology']\n"
          ]
        }
      ]
    },
    {
      "cell_type": "code",
      "source": [
        "print(X[0])"
      ],
      "metadata": {
        "colab": {
          "base_uri": "https://localhost:8080/"
        },
        "id": "FJWeHcPaMGS1",
        "outputId": "d6f2dd9a-04c1-4522-9e34-3f5aa41ad340"
      },
      "execution_count": 9,
      "outputs": [
        {
          "output_type": "stream",
          "name": "stdout",
          "text": [
            "[0.         0.64846464 0.         0.53828134 0.         0.\n",
            " 0.         0.         0.53828134 0.        ]\n"
          ]
        }
      ]
    },
    {
      "cell_type": "code",
      "source": [
        "1 - np.round(pairwise_distances(X, metric=\"cosine\"),3)"
      ],
      "metadata": {
        "colab": {
          "base_uri": "https://localhost:8080/"
        },
        "id": "XXTpve7VNAEi",
        "outputId": "20cb846b-ef06-4d5e-8be2-ea1570fc7ee0"
      },
      "execution_count": 10,
      "outputs": [
        {
          "output_type": "execute_result",
          "data": {
            "text/plain": [
              "array([[1.   , 0.   , 0.   , 0.   , 0.   , 0.   , 0.761],\n",
              "       [0.   , 1.   , 0.   , 0.   , 0.319, 0.707, 0.   ],\n",
              "       [0.   , 0.   , 1.   , 0.   , 0.   , 0.   , 0.   ],\n",
              "       [0.   , 0.   , 0.   , 1.   , 0.452, 0.   , 0.   ],\n",
              "       [0.   , 0.319, 0.   , 0.452, 1.   , 0.   , 0.   ],\n",
              "       [0.   , 0.707, 0.   , 0.   , 0.   , 1.   , 0.   ],\n",
              "       [0.761, 0.   , 0.   , 0.   , 0.   , 0.   , 1.   ]])"
            ]
          },
          "metadata": {},
          "execution_count": 10
        }
      ]
    },
    {
      "cell_type": "code",
      "source": [
        "np.dot(X[0], X[6].T)"
      ],
      "metadata": {
        "colab": {
          "base_uri": "https://localhost:8080/"
        },
        "id": "gXarbCaFNBmR",
        "outputId": "145db73a-1e4f-49c4-d690-3aa5a3f8cb51"
      },
      "execution_count": 11,
      "outputs": [
        {
          "output_type": "execute_result",
          "data": {
            "text/plain": [
              "np.float64(0.7612447752339144)"
            ]
          },
          "metadata": {},
          "execution_count": 11
        }
      ]
    },
    {
      "cell_type": "code",
      "source": [
        "np.dot(X[3], X[4].T)"
      ],
      "metadata": {
        "colab": {
          "base_uri": "https://localhost:8080/"
        },
        "id": "PnsfeoM1NC7h",
        "outputId": "7b37f2c3-b62b-4cb4-bbd5-609b313a0868"
      },
      "execution_count": 12,
      "outputs": [
        {
          "output_type": "execute_result",
          "data": {
            "text/plain": [
              "np.float64(0.4516351457444982)"
            ]
          },
          "metadata": {},
          "execution_count": 12
        }
      ]
    }
  ]
}